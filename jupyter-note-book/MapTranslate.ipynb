{
 "cells": [
  {
   "cell_type": "markdown",
   "id": "668ead65-caf5-44b3-b6c6-1e0fd57c75c5",
   "metadata": {},
   "source": [
    "## 1. 读取点TXT文件，转换为字典"
   ]
  },
  {
   "cell_type": "code",
   "execution_count": 29,
   "id": "f36a7b41-c19b-4db9-b477-017ddde841e3",
   "metadata": {},
   "outputs": [
    {
     "data": {
      "text/plain": [
       "[484616.11048, 4216670.589231]"
      ]
     },
     "execution_count": 29,
     "metadata": {},
     "output_type": "execute_result"
    }
   ],
   "source": [
    "vertices_dict = {}\n",
    "with open('./data/tracebundle_vertices.txt','r') as vertices:\n",
    "    for line in vertices:\n",
    "        tmp = line.split(',')\n",
    "        vertices_dict[int(tmp[0])] = [float(tmp[1]),float(tmp[2][:-1])]\n",
    "vertices_dict[2]"
   ]
  },
  {
   "cell_type": "markdown",
   "id": "729dd9e8-6071-4092-831c-225739c4f52b",
   "metadata": {},
   "source": [
    "## 2. 读取边TXT文件，将点对应坐标"
   ]
  },
  {
   "cell_type": "code",
   "execution_count": 30,
   "id": "cafb9468-043e-4d1b-8620-60869f9d2c89",
   "metadata": {},
   "outputs": [
    {
     "data": {
      "text/plain": [
       "[[484616.11048, 4216670.589231], [484640.556115, 4216621.656072]]"
      ]
     },
     "execution_count": 30,
     "metadata": {},
     "output_type": "execute_result"
    }
   ],
   "source": [
    "edge_arr = []\n",
    "with open('./data/tracebundle_edges.txt','r') as edges:\n",
    "    for line in edges:\n",
    "        tmp = line.split(',')\n",
    "        edge_arr.append([vertices_dict[int(tmp[1])],vertices_dict[int(tmp[2])]])\n",
    "edge_arr[0]"
   ]
  },
  {
   "cell_type": "markdown",
   "id": "1402ba7f-64ac-4643-a0fc-2d5be16a63cc",
   "metadata": {},
   "source": [
    "## 3. 将边信息写为LineString，存为GeoJSON"
   ]
  },
  {
   "cell_type": "code",
   "execution_count": 31,
   "id": "acc0cab3-df91-436b-9350-09bb929b7953",
   "metadata": {},
   "outputs": [],
   "source": [
    "import os\n",
    "import json\n",
    "\n",
    "def save_trajs(data, path, type_style):\n",
    "    res = {\n",
    "        \"type\": \"FeatureCollection\",\n",
    "        \"features\": []\n",
    "    }\n",
    "    for i, traj in enumerate(data):\n",
    "        t = {\n",
    "            \"type\": \"Feature\",\n",
    "            \"geometry\": {\n",
    "                \"type\": \"LineString\", \"coordinates\": traj\n",
    "            },\n",
    "            \"properties\": {\n",
    "                \"id\": i\n",
    "            }\n",
    "        }\n",
    "\n",
    "        res[\"features\"].append(t)\n",
    "\n",
    "    if os.path.exists(path):\n",
    "        os.remove(path)\n",
    "    with open(path, \"w\") as f:\n",
    "        if type_style == \"LineString\":\n",
    "            json.dump(res, f)"
   ]
  },
  {
   "cell_type": "code",
   "execution_count": 32,
   "id": "876c840a-aa26-402e-912e-31cecfb0b687",
   "metadata": {},
   "outputs": [],
   "source": [
    "save_trajs(edge_arr, \"./final_map.json\", \"LineString\")"
   ]
  }
 ],
 "metadata": {
  "kernelspec": {
   "display_name": "Python 3",
   "language": "python",
   "name": "python3"
  },
  "language_info": {
   "codemirror_mode": {
    "name": "ipython",
    "version": 3
   },
   "file_extension": ".py",
   "mimetype": "text/x-python",
   "name": "python",
   "nbconvert_exporter": "python",
   "pygments_lexer": "ipython3",
   "version": "3.6.3"
  }
 },
 "nbformat": 4,
 "nbformat_minor": 5
}
